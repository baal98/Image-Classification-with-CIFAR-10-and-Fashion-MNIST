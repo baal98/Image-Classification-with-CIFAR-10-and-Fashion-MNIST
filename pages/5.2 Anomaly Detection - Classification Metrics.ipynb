{
 "cells": [
  {
   "cell_type": "markdown",
   "metadata": {},
   "source": [
    "# Anomaly Detection: Classification Metrics\n",
    "\n",
    "In the previous sections, we delved deep into anomaly detection using LBP (Local Binary Pattern) features and the Isolation Forest algorithm on the Fashion MNIST dataset. Anomalies in this context refer to images that deviate from typical patterns. However, how effective was this approach? In this section, we'll evaluate the anomaly detection process using well-known classification metrics: Precision, Recall, and F1 Score.\n",
    "\n",
    "### Precision, Recall, and F1 Score\n",
    "\n",
    "**Precision** measures the accuracy of positive predictions. In our context, it's the ratio of correctly identified anomalies to all identified anomalies (correct or not).\n",
    "\n",
    "$$\n",
    "\\text{Precision} = \\frac{\\text{True Positives}}{\\text{True Positives + False Positives}}\n",
    "$$\n",
    "\n",
    "**Recall (or Sensitivity)** is the ratio of correctly identified anomalies to all actual anomalies.\n",
    "\n",
    "$$\n",
    "\\text{Recall} = \\frac{\\text{True Positives}}{\\text{True Positives + False Negatives}}\n",
    "$$\n",
    "\n",
    "**F1 Score** is the harmonic mean of Precision and Recall. It provides a balance between the two, especially when the class distribution is uneven.\n",
    "\n",
    "$$\n",
    "\\text{F1 Score} = 2 \\times \\frac{\\text{Precision} \\times \\text{Recall}}{\\text{Precision} + \\text{Recall}}\n",
    "$$\n",
    "\n",
    "### Evaluating Anomaly Detection with Classification Metrics\n",
    "\n",
    "To compute these metrics, we first need to define what constitutes a \"positive\" in our context. Since we're dealing with anomaly detection, a \"positive\" would be detecting an anomaly. Hence:\n",
    "\n",
    "- True Positives (TP): Images correctly identified as anomalies.\n",
    "- False Positives (FP): Normal images incorrectly identified as anomalies.\n",
    "- True Negatives (TN): Normal images correctly identified as normal.\n",
    "- False Negatives (FN): Anomalies incorrectly identified as normal.\n",
    "\n",
    "Using these definitions, let's compute the metrics for each class in the Fashion MNIST dataset.\n"
   ]
  },
  {
   "cell_type": "code",
   "execution_count": 1,
   "metadata": {},
   "outputs": [
    {
     "name": "stdout",
     "output_type": "stream",
     "text": [
      "Precision: 0.7500\n",
      "Recall: 0.7500\n",
      "F1 Score: 0.7500\n"
     ]
    },
    {
     "data": {
      "image/png": "[encoded data removed]",
      "text/plain": [
       "<Figure size 640x480 with 1 Axes>"
      ]
     },
     "metadata": {},
     "output_type": "display_data"
    }
   ],
   "source": [
    "from sklearn.metrics import precision_score, recall_score, f1_score\n",
    "import matplotlib.pyplot as plt\n",
    "\n",
    "# Assuming you have the true labels and predicted labels as below:\n",
    "# true_labels = actual labels for the images, 1 for anomaly and 0 for normal\n",
    "# predicted_labels = labels predicted by the model, 1 for anomaly and 0 for normal\n",
    "\n",
    "# For the sake of this example, I'll use dummy data. Replace these with your actual data.\n",
    "true_labels = [1, 0, 0, 1, 1, 0, 1]\n",
    "predicted_labels = [1, 0, 1, 1, 1, 0, 0]\n",
    "\n",
    "# Calculate the metrics\n",
    "precision = precision_score(true_labels, predicted_labels)\n",
    "recall = recall_score(true_labels, predicted_labels)\n",
    "f1 = f1_score(true_labels, predicted_labels)\n",
    "\n",
    "print(f\"Precision: {precision:.4f}\")\n",
    "print(f\"Recall: {recall:.4f}\")\n",
    "print(f\"F1 Score: {f1:.4f}\")\n",
    "\n",
    "# Visualize the metrics\n",
    "labels = [\"Precision\", \"Recall\", \"F1 Score\"]\n",
    "values = [precision, recall, f1]\n",
    "\n",
    "plt.bar(labels, values, color=['blue', 'green', 'red'])\n",
    "plt.ylim(0, 1)\n",
    "plt.ylabel(\"Score\")\n",
    "plt.title(\"Classification Metrics for Anomaly Detection\")\n",
    "plt.show()\n"
   ]
  },
  {
   "cell_type": "markdown",
   "metadata": {},
   "source": [
    "### Observations\n",
    "\n",
    "After computing the metrics, we can make several observations:\n",
    "\n",
    "1. **Class-specific Performance**: Some classes might have higher precision, indicating that most of the anomalies detected for that class were actual anomalies. On the other hand, a high recall for a class would mean that the model successfully identified most of the anomalies for that class.\n",
    "2. **Balancing Precision and Recall**: F1 Score gives us a balanced view. A high F1 Score for a class would mean that both precision and recall are reasonably high for that class.\n",
    "3. **Overall Effectiveness**: By averaging the metrics across all classes, we can gauge the overall effectiveness of our anomaly detection approach.\n",
    "\n",
    "It's essential to understand that no single metric tells the complete story. By considering all three (Precision, Recall, and F1 Score), we get a comprehensive view of our model's performance. \n",
    "\n",
    "---"
   ]
  },
  {
   "cell_type": "markdown",
   "metadata": {},
   "source": [
    "[Back to Main](../Project.ipynb)"
   ]
  }
 ],
 "metadata": {
  "kernelspec": {
   "display_name": "Python 3",
   "language": "python",
   "name": "python3"
  },
  "language_info": {
   "codemirror_mode": {
    "name": "ipython",
    "version": 3
   },
   "file_extension": ".py",
   "mimetype": "text/x-python",
   "name": "python",
   "nbconvert_exporter": "python",
   "pygments_lexer": "ipython3",
   "version": "3.10.7"
  },
  "orig_nbformat": 4
 },
 "nbformat": 4,
 "nbformat_minor": 2
}
